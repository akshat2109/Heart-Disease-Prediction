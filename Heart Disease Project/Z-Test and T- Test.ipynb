{
 "cells": [
  {
   "cell_type": "code",
   "execution_count": 1,
   "metadata": {},
   "outputs": [],
   "source": [
    "%matplotlib inline\n",
    "import numpy as np\n",
    "import pandas as pd\n",
    "import scipy.stats as stats\n",
    "import matplotlib.pyplot as plt\n",
    "import math"
   ]
  },
  {
   "cell_type": "code",
   "execution_count": 2,
   "metadata": {},
   "outputs": [],
   "source": [
    "# 1 sample t-test\n",
    "#Ho : Our expected mean of Cholesterol level (248) should be equal to actual mean.\n",
    "#H1 : Our expected mean of Cholesterol level (248) should not be equal to actual mean.\n",
    "\n",
    "# We are taking level of significance=0.05"
   ]
  },
  {
   "cell_type": "code",
   "execution_count": 3,
   "metadata": {},
   "outputs": [
    {
     "name": "stdout",
     "output_type": "stream",
     "text": [
      "    Age  Sex  ChestPainType  RestingBP  Cholesterol  FastingBS\\t  RestingECG  \\\n",
      "0    40    0              1        140          289            0           1   \n",
      "1    49    1              2        160          180            0           1   \n",
      "2    37    0              1        130          283            0           2   \n",
      "3    48    1              3        138          214            0           1   \n",
      "4    54    0              2        150          195            0           1   \n",
      "5    39    0              2        120          339            0           1   \n",
      "6    45    1              1        130          237            0           1   \n",
      "7    54    0              1        110          208            0           1   \n",
      "8    37    0              3        140          207            0           1   \n",
      "9    48    1              1        120          284            0           1   \n",
      "10   37    1              2        130          211            0           1   \n",
      "11   58    0              1        136          164            0           2   \n",
      "12   39    0              1        120          204            0           1   \n",
      "13   49    0              3        140          234            0           1   \n",
      "14   42    1              2        115          211            0           2   \n",
      "15   54    1              1        120          273            0           1   \n",
      "16   38    0              3        110          196            0           1   \n",
      "17   43    1              1        120          201            0           1   \n",
      "18   60    0              3        100          248            0           1   \n",
      "19   36    0              1        120          267            0           1   \n",
      "20   43    1              4        100          223            0           1   \n",
      "21   44    0              1        120          184            0           1   \n",
      "22   49    1              1        124          201            0           1   \n",
      "23   44    0              1        150          288            0           1   \n",
      "24   40    0              2        130          215            0           1   \n",
      "25   36    0              2        130          209            0           1   \n",
      "26   53    0              3        124          260            0           2   \n",
      "27   52    0              1        120          284            0           1   \n",
      "\n",
      "    MaxHR\\t  ExerciseAngina  Oldpeak  ST_Slope  HeartDisease  Bpatothertime  \n",
      "0       172               0      0.0         0             0            150  \n",
      "1       156               0      1.0         1             1            165  \n",
      "2        98               0      0.0         0             0            134  \n",
      "3       108               1      1.5         1             1            137  \n",
      "4       122               0      0.0         0             0            156  \n",
      "5       170               0      0.0         0             0            123  \n",
      "6       170               0      0.0         0             0            130  \n",
      "7       142               0      0.0         0             0            112  \n",
      "8       130               1      1.5         1             1            139  \n",
      "9       120               0      0.0         0             0            120  \n",
      "10      142               0      0.0         0             0            135  \n",
      "11       99               1      2.0         1             1            140  \n",
      "12      145               0      0.0         0             0            128  \n",
      "13      140               1      1.0         1             1            146  \n",
      "14      137               0      0.0         0             0            126  \n",
      "15      150               0      1.5         1             0            127  \n",
      "16      166               0      0.0         1             1            119  \n",
      "17      165               0      0.0         0             0            127  \n",
      "18      125               0      1.0         1             1            112  \n",
      "19      160               0      3.0         1             1            131  \n",
      "20      142               0      0.0         0             0            107  \n",
      "21      142               0      1.0         1             0            123  \n",
      "22      164               0      0.0         0             0            126  \n",
      "23      150               1      3.0         1             1            162  \n",
      "24      138               0      0.0         0             0            132  \n",
      "25      178               0      0.0         0             0            132  \n",
      "26      112               1      3.0         1             0            124  \n",
      "27      118               0      0.0         0             0            132  \n"
     ]
    }
   ],
   "source": [
    "small =pd.read_excel('C:\\\\Users\\\\USER\\\\OneDrive\\\\Documents\\\\heart-small.xlsx')\n",
    "print(small)"
   ]
  },
  {
   "cell_type": "code",
   "execution_count": 4,
   "metadata": {},
   "outputs": [
    {
     "name": "stdout",
     "output_type": "stream",
     "text": [
      "232.46428571428572 42.216796852768645\n"
     ]
    }
   ],
   "source": [
    "mean=small['Cholesterol'].mean()\n",
    "expmean=248\n",
    "sd=small['Cholesterol'].std()\n",
    "print(mean,sd)"
   ]
  },
  {
   "cell_type": "code",
   "execution_count": 5,
   "metadata": {},
   "outputs": [
    {
     "name": "stdout",
     "output_type": "stream",
     "text": [
      "1.9472645725871927\n"
     ]
    }
   ],
   "source": [
    "t1= (expmean-mean)/(sd/math.sqrt(28))\n",
    "print(t1)"
   ]
  },
  {
   "cell_type": "code",
   "execution_count": 6,
   "metadata": {},
   "outputs": [
    {
     "name": "stdout",
     "output_type": "stream",
     "text": [
      "NULL Hypothesis accepted\n"
     ]
    }
   ],
   "source": [
    "if(t1>-1.96 and t1<1.96):\n",
    "    print( \"NULL Hypothesis accepted\")\n",
    "else:\n",
    "    print( \"NULL Hypothesis rejected\")"
   ]
  },
  {
   "cell_type": "code",
   "execution_count": 7,
   "metadata": {},
   "outputs": [],
   "source": [
    "# 2 samples t-test\n",
    "# Our target is to check that how is the ST_Slope is related to HeartDisease\n",
    "# Ho: We are expecting that mean of ST_Slope is equal to mean of HeartDisease\n",
    "# H1: We are expecting that mean of ST_Slope is not equal to mean of HeartDisease"
   ]
  },
  {
   "cell_type": "code",
   "execution_count": 8,
   "metadata": {},
   "outputs": [],
   "source": [
    "st_slope=small['ST_Slope'].to_numpy()\n",
    "heartdisease=small['HeartDisease'].to_numpy()"
   ]
  },
  {
   "cell_type": "code",
   "execution_count": 9,
   "metadata": {},
   "outputs": [
    {
     "name": "stdout",
     "output_type": "stream",
     "text": [
      "0.24489795918367346 0.21811224489795913\n"
     ]
    }
   ],
   "source": [
    "print(np.var(st_slope), np.var(heartdisease))"
   ]
  },
  {
   "cell_type": "code",
   "execution_count": 10,
   "metadata": {},
   "outputs": [
    {
     "data": {
      "text/plain": [
       "Ttest_indResult(statistic=0.8181818181818179, pvalue=0.41684922331881424)"
      ]
     },
     "execution_count": 10,
     "metadata": {},
     "output_type": "execute_result"
    }
   ],
   "source": [
    "#perform two sample t-test with equal variances\n",
    "stats.ttest_ind(a=st_slope, b=heartdisease, equal_var=True)"
   ]
  },
  {
   "cell_type": "code",
   "execution_count": 11,
   "metadata": {},
   "outputs": [],
   "source": [
    "# As here pvalue is less than alpha(0.05) so we reject Ho so ST_Slope is not sufficient to tell about HeartDisease"
   ]
  },
  {
   "cell_type": "code",
   "execution_count": 12,
   "metadata": {},
   "outputs": [],
   "source": [
    "# Paired Sample t-test\n",
    "# Ho: The mean of restingBP and Bpatothertime are equal\n",
    "# H1: The mean of restingBP and Bpatothertime are not equal"
   ]
  },
  {
   "cell_type": "code",
   "execution_count": 14,
   "metadata": {},
   "outputs": [],
   "source": [
    "restingbp=small['RestingBP'].to_numpy()\n",
    "bpatothertime=small['Bpatothertime'].to_numpy()"
   ]
  },
  {
   "cell_type": "code",
   "execution_count": 15,
   "metadata": {},
   "outputs": [
    {
     "data": {
      "text/plain": [
       "Ttest_relResult(statistic=-6.6773838263781755, pvalue=3.626567265687207e-07)"
      ]
     },
     "execution_count": 15,
     "metadata": {},
     "output_type": "execute_result"
    }
   ],
   "source": [
    "stats.ttest_rel(restingbp, bpatothertime)"
   ]
  },
  {
   "cell_type": "code",
   "execution_count": 16,
   "metadata": {},
   "outputs": [],
   "source": [
    "# Here p value is greater than 0.05 so we accept the null hypothesis"
   ]
  },
  {
   "cell_type": "code",
   "execution_count": 18,
   "metadata": {},
   "outputs": [],
   "source": [
    "# One sample z-test\n",
    "#Ho : Our expected population mean of Cholesterol level of people is equal to 210\n",
    "#H1: Our expected population mean of Cholesterol level of people is not equal to 210"
   ]
  },
  {
   "cell_type": "code",
   "execution_count": 20,
   "metadata": {},
   "outputs": [],
   "source": [
    "heart =pd.read_csv('C:\\\\Users\\\\USER\\\\Downloads\\\\heart-filtered.csv')"
   ]
  },
  {
   "cell_type": "code",
   "execution_count": 21,
   "metadata": {},
   "outputs": [
    {
     "name": "stdout",
     "output_type": "stream",
     "text": [
      "     Age  Sex  ChestPainType  RestingBP  Cholesterol  FastingBS\\t  RestingECG  \\\n",
      "0     40    0              1        140          289            0           1   \n",
      "1     49    1              2        160          180            0           1   \n",
      "2     37    0              1        130          283            0           2   \n",
      "3     48    1              3        138          214            0           1   \n",
      "4     54    0              2        150          195            0           1   \n",
      "..   ...  ...            ...        ...          ...          ...         ...   \n",
      "913   45    0              4        110          264            0           1   \n",
      "914   68    0              3        144          193            1           1   \n",
      "915   57    0              3        130          131            0           1   \n",
      "916   57    1              1        130          236            0           3   \n",
      "917   38    0              2        138          175            0           1   \n",
      "\n",
      "     MaxHR\\t  ExerciseAngina  Oldpeak ST_Slope  HeartDisease  \n",
      "0        172               0      0.0        0             0  \n",
      "1        156               0      1.0        1             1  \n",
      "2         98               0      0.0        0             0  \n",
      "3        108               1      1.5        1             1  \n",
      "4        122               0      0.0        0             0  \n",
      "..       ...             ...      ...      ...           ...  \n",
      "913      132               0      1.2        1             1  \n",
      "914      141               0      3.4        1             1  \n",
      "915      115               1      1.2        1             1  \n",
      "916      174               0      0.0        1             1  \n",
      "917      173               0      0.0        0             0  \n",
      "\n",
      "[918 rows x 12 columns]\n"
     ]
    }
   ],
   "source": [
    "print(heart)"
   ]
  },
  {
   "cell_type": "code",
   "execution_count": 22,
   "metadata": {},
   "outputs": [],
   "source": [
    "from statsmodels.stats.weightstats import ztest as ztest"
   ]
  },
  {
   "cell_type": "code",
   "execution_count": 24,
   "metadata": {},
   "outputs": [
    {
     "name": "stdout",
     "output_type": "stream",
     "text": [
      "198.7995642701525 109.38414455220337\n"
     ]
    }
   ],
   "source": [
    "mean2=heart['Cholesterol'].mean()\n",
    "expmean=210\n",
    "sd2=heart['Cholesterol'].std()\n",
    "print(mean2,sd2)"
   ]
  },
  {
   "cell_type": "code",
   "execution_count": 25,
   "metadata": {},
   "outputs": [],
   "source": [
    "colesterol2=heart['Cholesterol'].to_numpy()"
   ]
  },
  {
   "cell_type": "code",
   "execution_count": 26,
   "metadata": {},
   "outputs": [
    {
     "name": "stdout",
     "output_type": "stream",
     "text": [
      "[289 180 283 214 195 339 237 208 207 284 211 164 204 234 211 273 196 201\n",
      " 248 267 223 184 201 288 215 209 260 284 468 188 518 167 224 172 186 254\n",
      " 306 250 177 227 230 294 264 259 175 318 223 216 340 289 233 205 224 245\n",
      " 180 194 270 213 365 342 253 254 224 277 202 260 297 225 246 412 265 215\n",
      " 182 218 268 163 529 167 100 206 277 238 223 196 213 139 263 216 291 229\n",
      " 208 307 210 329 182 263 207 147  85 269 275 179 392 466 186 260 254 214\n",
      " 129 241 188 255 276 297 207 246 282 338 160 156 248 272 240 393 230 246\n",
      " 161 163 230 228 292 202 388 230 294 265 215 241 166 247 331 341 291 243\n",
      " 279 273 198 249 168 603 215 159 275 270 291 342 190 185 290 195 264 212\n",
      " 263 196 225 272 231 238 222 179 243 235 320 187 266 288 216 287 194 238\n",
      " 225 224 404 238 312 211 251 237 328 285 280 209 245 192 184 193 297 268\n",
      " 246 308 249 230 147 219 184 215 308 257 132 216 263 288 276 219 226 237\n",
      " 280 217 196 263 222 303 195 298 256 264 195 117 295 173 315 281 275 250\n",
      " 309 200 336 295 355 193 326 198 292 266 268 171 237 275 219 341 491 260\n",
      " 292 271 248 274 394 160 200 320 275 221 231 126 193 305 298 220 242 235\n",
      " 225 198 201 220 295 213 160 223 347 253 246 222 220 344 358 190 169 181\n",
      " 308 166 211 257 182   0   0   0   0   0   0   0   0   0   0   0   0   0\n",
      "   0   0   0   0   0   0   0   0   0   0   0   0   0   0   0   0   0   0\n",
      "   0   0   0   0   0   0   0   0   0   0   0   0   0   0   0   0   0   0\n",
      "   0   0   0   0   0   0   0   0   0   0   0   0   0   0   0   0   0   0\n",
      "   0   0   0   0   0   0   0   0   0   0   0   0   0   0   0   0   0   0\n",
      "   0   0   0   0   0   0   0   0   0   0   0   0   0   0   0   0   0   0\n",
      "   0   0   0   0   0   0   0   0   0   0   0   0   0   0   0   0   0   0\n",
      "   0   0 260 209 218 228 213   0 236   0   0 267 166   0   0   0   0 220\n",
      " 177 236   0   0   0   0   0   0   0   0   0 186 100 228   0 171 230   0\n",
      "   0   0 281   0 203   0   0   0   0   0 277   0 233   0   0 240   0   0\n",
      " 153 224   0   0   0 316   0   0 218   0 311   0   0   0 270   0   0 217\n",
      " 214 214 252 220 214 203   0 339 216 276 458 241 384 297 248 308 208 227\n",
      " 210 245 225 240   0 198 195 267 161 258   0   0 195 235   0 305 223 282\n",
      " 349 160 160 236 312 283 142 211 218 306 186 252 222   0   0 258 202 197\n",
      " 204 113 274 192 298 272 220 200 261 181 260 220 221 216 175 219 310 208\n",
      " 232 273 203 182 274 204 270 292 171 221 289 217 223 110 193 123 210 282\n",
      " 170 369 173 289 152 208 216 271 244 285 243 240 219 237 165 213 287 258\n",
      " 256 186 264 185 226 203 207 284 337 310 254 258 254 300 170 310 333 139\n",
      " 223 385 254 322 564 261 263 269 177 256 239 293 407 234 226 235 234 303\n",
      " 149 311 203 211 199 229 245 303 204 288 275 243 295 230 265 229 228 215\n",
      " 326 200 256 207 273 180 222 223 209 233 197 218 211 149 197 246 225 315\n",
      " 205 417 195 234 198 166 178 249 281 126 305 226 240 233 276 261 319 242\n",
      " 243 260 354 245 197 223 309 208 199 209 236 218 198 270 214 201 244 208\n",
      " 270 306 243 221 330 266 206 212 275 302 234 313 244 141 237 269 289 254\n",
      " 274 222 258 177 160 327 235 305 304 295 271 249 288 226 283 188 286 274\n",
      " 360 273 201 267 196 201 230 269 212 226 246 232 177 277 249 210 207 212\n",
      " 271 233 213 283 282 230 167 224 268 250 219 267 303 256 204 217 308 193\n",
      " 228 231 244 262 259 211 325 254 197 236 282 234 254 299 211 182 294 298\n",
      " 231 254 196 240 409 172 265 246 315 184 233 394 269 239 174 309 282 255\n",
      " 250 248 214 239 304 277 300 258 299 289 298 318 240 309 250 288 245 213\n",
      " 216 204 204 252 227 258 220 239 254 168 330 183 203 263 341 283 186 307\n",
      " 219 260 255 231 164 234 177 257 325 274 321 264 268 308 253 248 269 185\n",
      " 282 188 219 290 175 212 302 243 353 335 247 340 206 284 266 229 199 263\n",
      " 294 192 286 216 223 247 204 204 227 278 220 232 197 335 253 205 192 203\n",
      " 318 225 220 221 240 212 342 169 187 197 157 176 241 264 193 131 236 175]\n"
     ]
    }
   ],
   "source": [
    "print(colesterol2)"
   ]
  },
  {
   "cell_type": "code",
   "execution_count": 27,
   "metadata": {},
   "outputs": [
    {
     "data": {
      "text/plain": [
       "(-3.102429234926713, 0.0019193943124187725)"
      ]
     },
     "execution_count": 27,
     "metadata": {},
     "output_type": "execute_result"
    }
   ],
   "source": [
    "ztest(colesterol2, value=210)"
   ]
  },
  {
   "cell_type": "code",
   "execution_count": 28,
   "metadata": {},
   "outputs": [],
   "source": [
    "# Since this p-value is less than 0.05, we have sufficient evidence to reject the null hypothesis. "
   ]
  },
  {
   "cell_type": "code",
   "execution_count": 29,
   "metadata": {},
   "outputs": [],
   "source": [
    "# 2 samples ztest\n",
    "# Ho : The mean restingBP and mean BPatother time are same\n",
    "# H1 : The mean restingBP and mean BPatother time are not same"
   ]
  },
  {
   "cell_type": "code",
   "execution_count": 30,
   "metadata": {},
   "outputs": [],
   "source": [
    "restingbp=small['RestingBP'].to_numpy()\n",
    "bpatothertime=small['Bpatothertime'].to_numpy()"
   ]
  },
  {
   "cell_type": "code",
   "execution_count": 31,
   "metadata": {},
   "outputs": [
    {
     "data": {
      "text/plain": [
       "(-1.3964611945344356, 0.16257565841759347)"
      ]
     },
     "execution_count": 31,
     "metadata": {},
     "output_type": "execute_result"
    }
   ],
   "source": [
    "ztest(restingbp, bpatothertime, value=0) "
   ]
  },
  {
   "cell_type": "code",
   "execution_count": 32,
   "metadata": {},
   "outputs": [],
   "source": [
    "# Since this p-value is less than .05, we have sufficient evidence to accept the null hypothesis."
   ]
  },
  {
   "cell_type": "code",
   "execution_count": 33,
   "metadata": {},
   "outputs": [],
   "source": [
    "# Proportion Z-Test\n",
    "# Ho : We are expecting 60 percent of population are suffering with heart disease\n",
    "# H1 : We are expecting 60 percent of population are not suffering with heart disease"
   ]
  },
  {
   "cell_type": "code",
   "execution_count": 34,
   "metadata": {},
   "outputs": [],
   "source": [
    "heartDisease=heart['HeartDisease'].to_numpy()"
   ]
  },
  {
   "cell_type": "code",
   "execution_count": 35,
   "metadata": {},
   "outputs": [
    {
     "name": "stdout",
     "output_type": "stream",
     "text": [
      "[0 1 0 1 0 0 0 0 1 0 0 1 0 1 0 0 1 0 1 1 0 0 0 1 0 0 0 0 0 0 1 0 1 1 0 0 1\n",
      " 0 0 0 0 1 0 0 1 0 0 0 0 1 1 1 0 0 0 0 1 1 0 1 0 0 0 1 0 0 0 0 1 0 1 0 1 0\n",
      " 1 0 1 0 0 1 0 0 1 0 1 1 1 0 1 0 0 0 0 1 0 1 0 0 0 0 1 0 1 1 1 0 0 0 0 0 0\n",
      " 1 0 0 0 1 1 1 0 1 1 0 0 1 0 0 0 0 0 0 0 1 1 1 0 1 0 0 1 1 1 1 1 0 1 0 0 0\n",
      " 0 1 0 0 0 0 0 1 1 0 1 0 1 1 0 0 0 1 1 0 0 0 0 0 0 0 1 1 1 0 0 0 1 0 1 0 0\n",
      " 1 0 1 0 1 0 0 0 0 0 0 0 0 1 0 0 0 0 0 0 0 0 1 0 1 1 1 0 0 1 0 1 0 0 0 1 1\n",
      " 0 0 0 1 0 1 0 0 0 0 0 0 0 0 1 1 1 1 0 1 1 0 1 0 1 1 1 1 1 1 0 0 1 0 0 0 0\n",
      " 0 0 0 1 1 1 0 1 0 1 0 0 0 1 0 0 0 1 1 0 0 0 1 0 0 0 0 0 0 0 0 0 0 0 1 1 1\n",
      " 1 1 1 1 1 0 1 1 1 1 1 0 1 1 0 1 1 1 0 1 1 1 1 1 1 1 1 1 1 1 0 1 1 1 1 1 0\n",
      " 1 1 1 0 1 1 1 1 1 1 1 1 1 1 1 1 1 1 1 1 1 1 1 1 1 1 1 1 1 1 1 0 1 1 1 1 1\n",
      " 1 1 1 1 1 1 1 1 1 1 1 1 1 1 1 1 1 1 1 1 1 1 1 1 1 1 1 1 1 1 1 1 1 1 1 1 1\n",
      " 1 1 1 1 1 1 1 1 1 1 0 1 1 0 0 1 0 1 1 0 1 1 1 1 0 1 1 0 0 1 1 1 0 1 1 1 1\n",
      " 1 1 1 1 1 1 1 1 1 0 1 0 1 1 1 0 1 1 1 0 1 0 1 0 1 0 1 1 1 1 0 1 0 1 1 1 1\n",
      " 1 1 1 1 1 0 1 0 1 1 1 1 1 1 1 0 1 1 1 1 1 1 0 1 1 1 0 1 1 0 1 0 1 1 0 1 1\n",
      " 1 1 0 1 1 1 0 0 1 0 1 1 1 1 1 1 1 1 1 1 1 0 1 1 1 1 0 0 1 1 1 0 1 0 1 1 0\n",
      " 1 0 1 1 1 0 0 0 1 1 1 0 1 1 1 1 1 1 1 1 1 1 1 1 1 1 1 1 0 1 1 1 0 1 1 0 0\n",
      " 1 1 1 1 1 0 1 1 0 1 1 1 0 0 1 1 1 1 1 0 1 0 1 1 0 1 0 0 0 1 1 1 1 0 0 0 1\n",
      " 0 0 1 1 0 0 1 0 0 0 0 0 0 0 1 0 1 0 0 1 1 1 1 1 0 0 1 0 0 0 1 0 1 1 1 1 1\n",
      " 0 0 0 0 0 1 0 1 1 0 1 0 0 0 1 0 1 0 1 1 0 0 0 0 1 0 0 0 0 1 1 1 0 0 0 0 0\n",
      " 0 1 0 1 1 1 1 1 0 1 0 0 0 1 0 1 1 1 0 1 1 0 1 0 1 0 0 0 1 1 0 1 1 1 1 0 0\n",
      " 0 1 0 0 1 1 1 0 1 0 0 0 1 0 0 1 0 1 0 1 1 1 1 1 0 0 0 0 0 0 0 1 0 0 1 1 1\n",
      " 0 1 0 0 0 0 0 1 0 1 1 0 0 1 1 1 1 0 0 1 1 0 0 0 1 0 0 1 0 1 0 1 0 0 0 0 0\n",
      " 1 0 1 1 1 1 0 0 0 1 0 1 0 0 1 0 0 0 0 0 0 1 1 0 1 0 0 1 1 0 0 1 1 0 1 0 1\n",
      " 0 1 0 0 1 0 0 1 0 1 1 0 1 1 1 0 1 0 0 0 0 1 1 0 0 1 1 0 1 0 0 0 0 1 0 0 1\n",
      " 1 1 0 0 0 1 0 1 0 1 0 1 1 1 0 0 0 1 0 1 1 1 0 1 1 1 1 1 1 0]\n"
     ]
    }
   ],
   "source": [
    "print(heartDisease)"
   ]
  },
  {
   "cell_type": "code",
   "execution_count": 36,
   "metadata": {},
   "outputs": [],
   "source": [
    "from statsmodels.stats.proportion import proportions_ztest"
   ]
  },
  {
   "cell_type": "code",
   "execution_count": 41,
   "metadata": {},
   "outputs": [
    {
     "data": {
      "text/plain": [
       "(-0.8164965809277268, 0.41421617824252466)"
      ]
     },
     "execution_count": 41,
     "metadata": {},
     "output_type": "execute_result"
    }
   ],
   "source": [
    "proportions_ztest(count=60, nobs=100, value=0.64)"
   ]
  },
  {
   "cell_type": "code",
   "execution_count": 42,
   "metadata": {},
   "outputs": [],
   "source": [
    "#From the output we can see that the z test-statistic is -0.8165 and the corresponding p-value is 0.4142. Since this value is not less than α = 0.05, we fail to reject the null hypothesis. "
   ]
  },
  {
   "cell_type": "code",
   "execution_count": null,
   "metadata": {},
   "outputs": [],
   "source": []
  }
 ],
 "metadata": {
  "kernelspec": {
   "display_name": "Python 3",
   "language": "python",
   "name": "python3"
  },
  "language_info": {
   "codemirror_mode": {
    "name": "ipython",
    "version": 3
   },
   "file_extension": ".py",
   "mimetype": "text/x-python",
   "name": "python",
   "nbconvert_exporter": "python",
   "pygments_lexer": "ipython3",
   "version": "3.8.3"
  }
 },
 "nbformat": 4,
 "nbformat_minor": 4
}
